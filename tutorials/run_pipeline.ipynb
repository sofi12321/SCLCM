{
  "nbformat": 4,
  "nbformat_minor": 0,
  "metadata": {
    "colab": {
      "provenance": [],
      "gpuType": "T4"
    },
    "kernelspec": {
      "name": "python3",
      "display_name": "Python 3"
    },
    "language_info": {
      "name": "python"
    },
    "accelerator": "GPU"
  },
  "cells": [
    {
      "cell_type": "markdown",
      "source": [
        "# An example of using code and repeating experiments"
      ],
      "metadata": {
        "id": "rVhA_vdPDBG_"
      }
    },
    {
      "cell_type": "markdown",
      "source": [
        "## Environment setup\n"
      ],
      "metadata": {
        "id": "AJEgga8HDisO"
      }
    },
    {
      "cell_type": "markdown",
      "source": [
        "\n",
        "### Clone github repo"
      ],
      "metadata": {
        "id": "1gBcLlF3Dry7"
      }
    },
    {
      "cell_type": "code",
      "source": [
        "!git clone https://github.com/sofi12321/SCLCM.git"
      ],
      "metadata": {
        "id": "kxBl0t-QI6df"
      },
      "execution_count": null,
      "outputs": []
    },
    {
      "cell_type": "markdown",
      "source": [
        "\n",
        "### Move to SCLCM/src and setup the path"
      ],
      "metadata": {
        "id": "jV8O4JsHe0RY"
      }
    },
    {
      "cell_type": "code",
      "source": [
        "%cd /content/SCLCM/src\n",
        "import sys\n",
        "sys.path.insert(0, '/content/SCLCM/src')\n",
        "\n",
        "!mkdir model_weights\n",
        "!mkdir outputs"
      ],
      "metadata": {
        "colab": {
          "base_uri": "https://localhost:8080/"
        },
        "outputId": "b568ed5f-fb37-4318-df68-7bdffec59b07",
        "id": "jzYjANVUe0RZ"
      },
      "execution_count": null,
      "outputs": [
        {
          "output_type": "stream",
          "name": "stdout",
          "text": [
            "/content/SCLCM/src\n"
          ]
        }
      ]
    },
    {
      "cell_type": "markdown",
      "source": [
        "### Set seed for random operations"
      ],
      "metadata": {
        "id": "p3hBE5d9Akft"
      }
    },
    {
      "cell_type": "code",
      "source": [
        "from utils.imports import set_seed\n",
        "set_seed(21)"
      ],
      "metadata": {
        "id": "y8UT7wYRAo6J"
      },
      "execution_count": null,
      "outputs": []
    },
    {
      "cell_type": "markdown",
      "source": [
        "### Load data\n",
        "\n",
        "This work used 2 open source datasets - SEED and DEAP.\n",
        "\n",
        "\\\\\n",
        "\n",
        "SEED is available via\n",
        "\n",
        "https://bcmi.sjtu.edu.cn/home/seed/\n",
        "\n",
        "Please put data in the folder SCLCM/src/EEG_Dataset/SEED/\n",
        "\n",
        "\\\\\n",
        "\n",
        "DEAP is available via\n",
        "\n",
        "https://www.eecs.qmul.ac.uk/mmv/datasets/deap/\n",
        "\n",
        "Please put data in the folder SCLCM/src/EEG_Dataset/DEAP/\n"
      ],
      "metadata": {
        "id": "eI6fok2AD3ag"
      }
    },
    {
      "cell_type": "code",
      "source": [
        "# Example how to reformat data\n",
        "# to the shape (n_subjects*n_trials*n_stimulus, 1, n_channels, time_len).\n",
        "\n",
        "# For SEED dataset\n",
        "from data.seed.reformat import reformat_seed\n",
        "# data, session_labels, pid_video, num_video, subj_list, video_list, channels = reformat_seed(r\"EEG_Dataset/SEED/\")\n",
        "\n",
        "# For DEAP dataset\n",
        "from data.deap.reformat import reformat_deap\n",
        "# data, session_labels, pid_video, num_video, subj_list, video_list, channels = reformat_deap(r\"EEG_Dataset/DEAP/\")\n"
      ],
      "metadata": {
        "id": "lBUB23PuHoPo"
      },
      "execution_count": null,
      "outputs": []
    },
    {
      "cell_type": "code",
      "source": [
        "# Then one could apply feature extraction techniques\n",
        "from data.general.feature_extraction import extract_de, compute_psd, extract_dasm, extract_rasm, extract_dcau, reshape_3d, subtract_baseline"
      ],
      "metadata": {
        "id": "-6MYSZUWH1j8"
      },
      "execution_count": null,
      "outputs": []
    },
    {
      "cell_type": "code",
      "source": [
        "# Also, you could ask authors for samples of preprocessed data.\n",
        "# To use it, please, add the given folder to the root of your drive as a shortcut\n",
        "\n",
        "from google.colab import drive\n",
        "drive.mount(\"/content/drive\")\n",
        "!cp -r /content/drive/MyDrive/EEG_Dataset /content/SCLCM/src/"
      ],
      "metadata": {
        "id": "hKrQaMReEMVU",
        "colab": {
          "base_uri": "https://localhost:8080/"
        },
        "outputId": "7e6b9656-0e8e-4470-ad56-506ad1ec804c"
      },
      "execution_count": null,
      "outputs": [
        {
          "output_type": "stream",
          "name": "stdout",
          "text": [
            "Mounted at /content/drive\n"
          ]
        }
      ]
    },
    {
      "cell_type": "code",
      "source": [
        "# Select metadata for the particular dataset and its prerocessing technique\n",
        "from data.general.metadata import general_metadata, datasets_metadata\n",
        "\n",
        "# Parameters could be changed to vary the loading data\n",
        "general_metadata[\"batch_size\"] = 256\n",
        "general_metadata"
      ],
      "metadata": {
        "colab": {
          "base_uri": "https://localhost:8080/"
        },
        "id": "0SF22YedqY3O",
        "outputId": "c1404441-75ed-4230-ded9-e74c7160f4a5"
      },
      "execution_count": null,
      "outputs": [
        {
          "output_type": "execute_result",
          "data": {
            "text/plain": [
              "{'batch_size': 256,\n",
              " 'additional_processing': None,\n",
              " 'spatial_transform': False,\n",
              " 'augmentations': ['frequency_noise', 'mask_channel', 'mix_dtpts'],\n",
              " 'split_by': 'subject',\n",
              " 'test_fraction': 0.3}"
            ]
          },
          "metadata": {},
          "execution_count": 8
        }
      ]
    },
    {
      "cell_type": "code",
      "source": [
        "# Select one of the option\n",
        "list(datasets_metadata.keys())"
      ],
      "metadata": {
        "colab": {
          "base_uri": "https://localhost:8080/"
        },
        "id": "pAeVOGENtouE",
        "outputId": "fa8bf42c-cb82-4c13-ec07-c4d5f9ad4f8a"
      },
      "execution_count": null,
      "outputs": [
        {
          "output_type": "execute_result",
          "data": {
            "text/plain": [
              "['seed_raw',\n",
              " 'seed_baseline',\n",
              " 'seed_de',\n",
              " 'seed_baseline_de',\n",
              " 'seed_psd',\n",
              " 'seed_baseline_psd',\n",
              " 'deap_raw',\n",
              " 'deap_baseline',\n",
              " 'deap_de',\n",
              " 'deap_baseline_de',\n",
              " 'deap_psd',\n",
              " 'deap_baseline_psd']"
            ]
          },
          "metadata": {},
          "execution_count": 9
        }
      ]
    },
    {
      "cell_type": "code",
      "source": [
        "# Example\n",
        "selection = \"seed_de\"\n",
        "dataset_metadata = datasets_metadata[selection]\n",
        "dataset_metadata"
      ],
      "metadata": {
        "colab": {
          "base_uri": "https://localhost:8080/"
        },
        "id": "XfcX-vFCrrK-",
        "outputId": "4bc545ca-6dc5-4d1f-a924-75ca16affc4b"
      },
      "execution_count": null,
      "outputs": [
        {
          "output_type": "execute_result",
          "data": {
            "text/plain": [
              "{'data_path': 'EEG_Dataset/SEED/seed_de_new.dat',\n",
              " 'num_channels': 62,\n",
              " 'data_shape': (-1, 62, 5, 288),\n",
              " 'move_axis': [2, 1],\n",
              " 'time_len': 250,\n",
              " 'pos_groupping': 'trial',\n",
              " 'need_norm': True,\n",
              " 'in_channels': 5,\n",
              " 'in_features': 119040,\n",
              " 'num_classes': 3}"
            ]
          },
          "metadata": {},
          "execution_count": 10
        }
      ]
    },
    {
      "cell_type": "code",
      "source": [
        "# You can select channels\n",
        "# Important: this could not be applied with spatial_transform\n",
        "# Additionally, it requires change of the in_features parameter\n",
        "\n",
        "# channels_cut = None\n",
        "\n",
        "channels_cut = ['T7', 'T8']\n",
        "in_features=15872"
      ],
      "metadata": {
        "id": "iDRKGhdLrot1"
      },
      "execution_count": null,
      "outputs": []
    },
    {
      "cell_type": "code",
      "source": [
        "# Then load the data using selected metadata\n",
        "from data.general.load_any_data import load_data_by_selection\n",
        "res = load_data_by_selection(selection, general_metadata, dataset_metadata, channels_cut)\n",
        "data, session_labels, pid_video, num_video, subj_list, video_list, channels, need_norm, in_channels, in_features, num_classes, num_channels = res\n",
        "data.shape, session_labels.shape, pid_video.shape, num_video"
      ],
      "metadata": {
        "id": "X9bMDBDVS0bO",
        "colab": {
          "base_uri": "https://localhost:8080/"
        },
        "outputId": "038a94c3-2216-48b8-e3b9-96b9fb30b610"
      },
      "execution_count": null,
      "outputs": [
        {
          "output_type": "execute_result",
          "data": {
            "text/plain": [
              "((675, 5, 2, 250), (675,), (675,), 15)"
            ]
          },
          "metadata": {},
          "execution_count": 12
        }
      ]
    },
    {
      "cell_type": "code",
      "source": [
        "# Additionally, different number of channels require change of the in_features parameter\n",
        "in_features=15872"
      ],
      "metadata": {
        "id": "GlyyLgBo5WiL"
      },
      "execution_count": null,
      "outputs": []
    },
    {
      "cell_type": "markdown",
      "source": [
        "#### Train test split"
      ],
      "metadata": {
        "id": "-SnQhbYh7Zkc"
      }
    },
    {
      "cell_type": "code",
      "source": [
        "# Make loaders. pt for pretraining, ft for finetuning (without augmentations and special batching)\n",
        "from data.general.train_test_split import split_data\n",
        "train_loader_pt, test_loader_pt, train_loader_ft, test_loader_ft = split_data(\n",
        "    data, session_labels, pid_video,\n",
        "    num_video, subj_list, video_list,\n",
        "    need_norm = need_norm, add_data = None, batch_size = general_metadata[\"batch_size\"],\n",
        "    augmentations = general_metadata[\"augmentations\"],\n",
        "    split_by=general_metadata[\"split_by\"], test_fraction=general_metadata[\"test_fraction\"])"
      ],
      "metadata": {
        "colab": {
          "base_uri": "https://localhost:8080/"
        },
        "id": "cXXjlorx7j9g",
        "outputId": "c1a40044-13de-4ae4-c012-5427603e63b8"
      },
      "execution_count": null,
      "outputs": [
        {
          "output_type": "stream",
          "name": "stdout",
          "text": [
            "135\n",
            "Labels\n",
            "Train (array([-1,  0,  1]), array([180, 180, 180]))\n",
            "Test (array([-1,  0,  1]), array([45, 45, 45]))\n",
            "Too low number of channels, so drop mask_channel augmentation\n"
          ]
        }
      ]
    },
    {
      "cell_type": "markdown",
      "source": [
        "## Run experiment"
      ],
      "metadata": {
        "id": "Q8QbknPa9w4O"
      }
    },
    {
      "cell_type": "markdown",
      "source": [
        "### Model loading"
      ],
      "metadata": {
        "id": "s0EBI6e09230"
      }
    },
    {
      "cell_type": "code",
      "source": [
        "# To separate experiments trial and save weights (not to overwrite them)\n",
        "num_exp = 'seed_de_ssl_subject'"
      ],
      "metadata": {
        "id": "UOvHDy51_t0U"
      },
      "execution_count": null,
      "outputs": []
    },
    {
      "cell_type": "code",
      "source": [
        "import torch\n",
        "# Device configuration\n",
        "device = torch.device('cuda' if torch.cuda.is_available() else 'cpu')"
      ],
      "metadata": {
        "id": "LY1rqjIqAd-5"
      },
      "execution_count": null,
      "outputs": []
    },
    {
      "cell_type": "code",
      "source": [
        "from models.cnn.encoder import SmallCNN1d, SmallCNN2d\n",
        "\n",
        "# Base encoder\n",
        "emb_dim = 128\n",
        "# model = SmallCNN2d(emb_dim,  in_channels=in_channels, in_features=in_features)\n",
        "# Model with lowered kernel size\n",
        "model = SmallCNN1d(emb_dim,  in_channels=in_channels, in_features=in_features  )\n",
        "model"
      ],
      "metadata": {
        "colab": {
          "base_uri": "https://localhost:8080/"
        },
        "id": "D0WXH6Vr0V7V",
        "outputId": "2c68fc8f-59b3-47e8-f598-e3272ac670ca"
      },
      "execution_count": null,
      "outputs": [
        {
          "output_type": "execute_result",
          "data": {
            "text/plain": [
              "SmallCNN1d(\n",
              "  (cn): Sequential(\n",
              "    (0): Conv2d(5, 64, kernel_size=(1, 3), stride=(1, 1), padding=(0, 1))\n",
              "    (1): LeakyReLU(negative_slope=0.01)\n",
              "    (2): MaxPool2d(kernel_size=(1, 2), stride=(1, 2), padding=0, dilation=1, ceil_mode=False)\n",
              "    (3): BatchNorm2d(64, eps=1e-05, momentum=0.1, affine=True, track_running_stats=True)\n",
              "    (4): Dropout(p=0.2, inplace=False)\n",
              "    (5): Conv2d(64, 128, kernel_size=(1, 3), stride=(1, 1), padding=(0, 1))\n",
              "    (6): LeakyReLU(negative_slope=0.01)\n",
              "    (7): MaxPool2d(kernel_size=(1, 2), stride=(1, 2), padding=0, dilation=1, ceil_mode=False)\n",
              "    (8): BatchNorm2d(128, eps=1e-05, momentum=0.1, affine=True, track_running_stats=True)\n",
              "    (9): Dropout(p=0.25, inplace=False)\n",
              "    (10): Flatten(start_dim=1, end_dim=-1)\n",
              "    (11): Linear(in_features=15872, out_features=128, bias=True)\n",
              "    (12): BatchNorm1d(128, eps=1e-05, momentum=0.1, affine=True, track_running_stats=True)\n",
              "  )\n",
              ")"
            ]
          },
          "metadata": {},
          "execution_count": 21
        }
      ]
    },
    {
      "cell_type": "markdown",
      "source": [
        "### Pretext task"
      ],
      "metadata": {
        "id": "TT4Ctl43-GBp"
      }
    },
    {
      "cell_type": "code",
      "source": [
        "from torch import optim\n",
        "from utils.losses import HardSoftLoss\n",
        "\n",
        "finetuning_epochs = 200\n",
        "finetuning_wait_epochs = 25\n",
        "sensitivity_early_stop = 1.00001\n",
        "sensitivity_save_weights = 1.00001\n",
        "save_weights_path = \"model_weights/\"\n",
        "save_pt_model_path = \"model_weights/cnn_pt_\"+num_exp+\".pth\"\n",
        "\n",
        "optimizer = optim.Adam(model.parameters(), lr=0.0001)\n",
        "pt_scheduler = None\n",
        "# pt_scheduler = torch.optim.lr_scheduler.CyclicLR(optimizer, base_lr=0.001, max_lr=0.1,step_size_up=5,mode=\"exp_range\",gamma=0.85)\n",
        "finetuning_criterion = HardSoftLoss(pos=0.4, hard_neg=0.4, soft_person_neg=0.4, soft_video_neg=0.1, num_video=num_video, device=device)\n",
        "\n",
        "model = model.to(device)\n",
        "print(num_video)"
      ],
      "metadata": {
        "colab": {
          "base_uri": "https://localhost:8080/"
        },
        "id": "IxiUPPFe0V4h",
        "outputId": "b6b8a3ea-d454-4edf-bedf-f94252ed1a4a"
      },
      "execution_count": null,
      "outputs": [
        {
          "output_type": "stream",
          "name": "stdout",
          "text": [
            "15\n"
          ]
        }
      ]
    },
    {
      "cell_type": "code",
      "source": [
        "from utils.test_run_embedding import run_embedding\n",
        "import numpy as np\n",
        "\n",
        "_, losses, pt_train_time, pt_test_time = run_embedding(device,save_pt_model_path, model,\n",
        "                   train_loader_pt, test_loader_pt,\n",
        "                   optimizer, finetuning_criterion,\n",
        "\n",
        "                   finetuning_epochs, finetuning_wait_epochs,\n",
        "                   sensitivity_early_stop = sensitivity_early_stop,\n",
        "                   sensitivity_save_weights = sensitivity_save_weights,\n",
        "                   pt_scheduler =pt_scheduler)\n",
        "# Print statistics\n",
        "print()\n",
        "print(\"First loss is\", round(losses[0], 4))\n",
        "print(\"Best loss is\", round(min(losses), 4), \"at epoch\", np.argmin(losses))\n",
        "print(\"Train time\", round(pt_train_time, 3), \"Test time\",  round(pt_test_time, 3))\n",
        "# Save overfitted model\n",
        "torch.save(model.state_dict(), save_weights_path + \"cnn_ovpt_\"+num_exp+\".pth\")"
      ],
      "metadata": {
        "colab": {
          "base_uri": "https://localhost:8080/"
        },
        "id": "whGXhV8T-JSo",
        "outputId": "2fa7d860-dfc9-419c-e311-c55224355a7d"
      },
      "execution_count": null,
      "outputs": [
        {
          "output_type": "stream",
          "name": "stderr",
          "text": [
            "100%|██████████| 2/2 [00:00<00:00,  3.82it/s, Loss=1.154865]\n"
          ]
        },
        {
          "output_type": "stream",
          "name": "stdout",
          "text": [
            "Test set: Average loss: 1.1548649072647095\n",
            "Epoch 1\n",
            "Train loss: 0.521463\n"
          ]
        },
        {
          "output_type": "stream",
          "name": "stderr",
          "text": [
            "100%|██████████| 2/2 [00:00<00:00, 23.86it/s, Loss=0.692886]"
          ]
        },
        {
          "output_type": "stream",
          "name": "stdout",
          "text": [
            "Test set: Average loss: 0.6928859353065491\n",
            "The model weights were saved\n",
            "Epoch 2\n"
          ]
        },
        {
          "output_type": "stream",
          "name": "stderr",
          "text": [
            "\n"
          ]
        },
        {
          "output_type": "stream",
          "name": "stdout",
          "text": [
            "Train loss: 0.515487\n"
          ]
        },
        {
          "output_type": "stream",
          "name": "stderr",
          "text": [
            "100%|██████████| 2/2 [00:00<00:00, 23.45it/s, Loss=0.625866]"
          ]
        },
        {
          "output_type": "stream",
          "name": "stdout",
          "text": [
            "Test set: Average loss: 0.625865638256073\n",
            "The model weights were saved\n",
            "Epoch 3\n"
          ]
        },
        {
          "output_type": "stream",
          "name": "stderr",
          "text": [
            "\n"
          ]
        },
        {
          "output_type": "stream",
          "name": "stdout",
          "text": [
            "Train loss: 0.512104\n"
          ]
        },
        {
          "output_type": "stream",
          "name": "stderr",
          "text": [
            "100%|██████████| 2/2 [00:00<00:00, 21.54it/s, Loss=0.578919]"
          ]
        },
        {
          "output_type": "stream",
          "name": "stdout",
          "text": [
            "Test set: Average loss: 0.5789185166358948\n",
            "The model weights were saved\n",
            "Epoch 4\n"
          ]
        },
        {
          "output_type": "stream",
          "name": "stderr",
          "text": [
            "\n"
          ]
        },
        {
          "output_type": "stream",
          "name": "stdout",
          "text": [
            "Train loss: 0.506010\n"
          ]
        },
        {
          "output_type": "stream",
          "name": "stderr",
          "text": [
            "100%|██████████| 2/2 [00:00<00:00, 24.51it/s, Loss=0.555862]"
          ]
        },
        {
          "output_type": "stream",
          "name": "stdout",
          "text": [
            "Test set: Average loss: 0.5558615624904633\n",
            "The model weights were saved\n",
            "Epoch 5\n"
          ]
        },
        {
          "output_type": "stream",
          "name": "stderr",
          "text": [
            "\n"
          ]
        },
        {
          "output_type": "stream",
          "name": "stdout",
          "text": [
            "Train loss: 0.502316\n"
          ]
        },
        {
          "output_type": "stream",
          "name": "stderr",
          "text": [
            "100%|██████████| 2/2 [00:00<00:00, 24.55it/s, Loss=0.547076]"
          ]
        },
        {
          "output_type": "stream",
          "name": "stdout",
          "text": [
            "Test set: Average loss: 0.5470757782459259\n",
            "The model weights were saved\n",
            "Epoch 6\n"
          ]
        },
        {
          "output_type": "stream",
          "name": "stderr",
          "text": [
            "\n"
          ]
        },
        {
          "output_type": "stream",
          "name": "stdout",
          "text": [
            "Train loss: 0.501361\n"
          ]
        },
        {
          "output_type": "stream",
          "name": "stderr",
          "text": [
            "100%|██████████| 2/2 [00:00<00:00, 24.22it/s, Loss=0.540941]"
          ]
        },
        {
          "output_type": "stream",
          "name": "stdout",
          "text": [
            "Test set: Average loss: 0.540941059589386\n",
            "The model weights were saved\n",
            "Epoch 7\n"
          ]
        },
        {
          "output_type": "stream",
          "name": "stderr",
          "text": [
            "\n"
          ]
        },
        {
          "output_type": "stream",
          "name": "stdout",
          "text": [
            "Train loss: 0.498825\n"
          ]
        },
        {
          "output_type": "stream",
          "name": "stderr",
          "text": [
            "100%|██████████| 2/2 [00:00<00:00, 24.42it/s, Loss=0.536419]"
          ]
        },
        {
          "output_type": "stream",
          "name": "stdout",
          "text": [
            "Test set: Average loss: 0.5364187359809875\n",
            "The model weights were saved\n",
            "Epoch 8\n"
          ]
        },
        {
          "output_type": "stream",
          "name": "stderr",
          "text": [
            "\n"
          ]
        },
        {
          "output_type": "stream",
          "name": "stdout",
          "text": [
            "Train loss: 0.498722\n"
          ]
        },
        {
          "output_type": "stream",
          "name": "stderr",
          "text": [
            "100%|██████████| 2/2 [00:00<00:00, 22.49it/s, Loss=0.535022]"
          ]
        },
        {
          "output_type": "stream",
          "name": "stdout",
          "text": [
            "Test set: Average loss: 0.5350217223167419\n",
            "The model weights were saved\n",
            "Epoch 9\n"
          ]
        },
        {
          "output_type": "stream",
          "name": "stderr",
          "text": [
            "\n"
          ]
        },
        {
          "output_type": "stream",
          "name": "stdout",
          "text": [
            "Train loss: 0.495552\n"
          ]
        },
        {
          "output_type": "stream",
          "name": "stderr",
          "text": [
            "100%|██████████| 2/2 [00:00<00:00, 24.77it/s, Loss=0.534344]"
          ]
        },
        {
          "output_type": "stream",
          "name": "stdout",
          "text": [
            "Test set: Average loss: 0.534343957901001\n",
            "The model weights were saved\n",
            "Epoch 10\n"
          ]
        },
        {
          "output_type": "stream",
          "name": "stderr",
          "text": [
            "\n"
          ]
        },
        {
          "output_type": "stream",
          "name": "stdout",
          "text": [
            "Train loss: 0.493704\n"
          ]
        },
        {
          "output_type": "stream",
          "name": "stderr",
          "text": [
            "100%|██████████| 2/2 [00:00<00:00, 24.01it/s, Loss=0.533773]"
          ]
        },
        {
          "output_type": "stream",
          "name": "stdout",
          "text": [
            "Test set: Average loss: 0.5337726175785065\n",
            "The model weights were saved\n",
            "Epoch 11\n"
          ]
        },
        {
          "output_type": "stream",
          "name": "stderr",
          "text": [
            "\n"
          ]
        },
        {
          "output_type": "stream",
          "name": "stdout",
          "text": [
            "Train loss: 0.490337\n"
          ]
        },
        {
          "output_type": "stream",
          "name": "stderr",
          "text": [
            "100%|██████████| 2/2 [00:00<00:00, 18.28it/s, Loss=0.534115]"
          ]
        },
        {
          "output_type": "stream",
          "name": "stdout",
          "text": [
            "Test set: Average loss: 0.534114807844162\n",
            "Epoch 12\n"
          ]
        },
        {
          "output_type": "stream",
          "name": "stderr",
          "text": [
            "\n"
          ]
        },
        {
          "output_type": "stream",
          "name": "stdout",
          "text": [
            "Train loss: 0.488190\n"
          ]
        },
        {
          "output_type": "stream",
          "name": "stderr",
          "text": [
            "100%|██████████| 2/2 [00:00<00:00, 17.78it/s, Loss=0.533187]"
          ]
        },
        {
          "output_type": "stream",
          "name": "stdout",
          "text": [
            "Test set: Average loss: 0.5331871807575226\n",
            "The model weights were saved\n",
            "Epoch 13\n"
          ]
        },
        {
          "output_type": "stream",
          "name": "stderr",
          "text": [
            "\n"
          ]
        },
        {
          "output_type": "stream",
          "name": "stdout",
          "text": [
            "Train loss: 0.478645\n"
          ]
        },
        {
          "output_type": "stream",
          "name": "stderr",
          "text": [
            "100%|██████████| 2/2 [00:00<00:00, 17.14it/s, Loss=0.533042]"
          ]
        },
        {
          "output_type": "stream",
          "name": "stdout",
          "text": [
            "Test set: Average loss: 0.5330420732498169\n",
            "The model weights were saved\n",
            "Epoch 14\n"
          ]
        },
        {
          "output_type": "stream",
          "name": "stderr",
          "text": [
            "\n"
          ]
        },
        {
          "output_type": "stream",
          "name": "stdout",
          "text": [
            "Train loss: 0.487058\n"
          ]
        },
        {
          "output_type": "stream",
          "name": "stderr",
          "text": [
            "100%|██████████| 2/2 [00:00<00:00, 16.69it/s, Loss=0.534689]"
          ]
        },
        {
          "output_type": "stream",
          "name": "stdout",
          "text": [
            "Test set: Average loss: 0.5346888303756714\n",
            "Epoch 15\n"
          ]
        },
        {
          "output_type": "stream",
          "name": "stderr",
          "text": [
            "\n"
          ]
        },
        {
          "output_type": "stream",
          "name": "stdout",
          "text": [
            "Train loss: 0.486644\n"
          ]
        },
        {
          "output_type": "stream",
          "name": "stderr",
          "text": [
            "100%|██████████| 2/2 [00:00<00:00, 12.71it/s, Loss=0.533537]"
          ]
        },
        {
          "output_type": "stream",
          "name": "stdout",
          "text": [
            "Test set: Average loss: 0.533537358045578\n",
            "Epoch 16\n"
          ]
        },
        {
          "output_type": "stream",
          "name": "stderr",
          "text": [
            "\n"
          ]
        },
        {
          "output_type": "stream",
          "name": "stdout",
          "text": [
            "Train loss: 0.486765\n"
          ]
        },
        {
          "output_type": "stream",
          "name": "stderr",
          "text": [
            "100%|██████████| 2/2 [00:00<00:00, 12.57it/s, Loss=0.532621]"
          ]
        },
        {
          "output_type": "stream",
          "name": "stdout",
          "text": [
            "Test set: Average loss: 0.5326209366321564\n",
            "The model weights were saved\n",
            "Epoch 17\n"
          ]
        },
        {
          "output_type": "stream",
          "name": "stderr",
          "text": [
            "\n"
          ]
        },
        {
          "output_type": "stream",
          "name": "stdout",
          "text": [
            "Train loss: 0.483597\n"
          ]
        },
        {
          "output_type": "stream",
          "name": "stderr",
          "text": [
            "100%|██████████| 2/2 [00:00<00:00, 23.73it/s, Loss=0.533760]"
          ]
        },
        {
          "output_type": "stream",
          "name": "stdout",
          "text": [
            "Test set: Average loss: 0.5337595045566559\n",
            "Epoch 18\n"
          ]
        },
        {
          "output_type": "stream",
          "name": "stderr",
          "text": [
            "\n"
          ]
        },
        {
          "output_type": "stream",
          "name": "stdout",
          "text": [
            "Train loss: 0.486453\n"
          ]
        },
        {
          "output_type": "stream",
          "name": "stderr",
          "text": [
            "100%|██████████| 2/2 [00:00<00:00, 24.79it/s, Loss=0.532289]"
          ]
        },
        {
          "output_type": "stream",
          "name": "stdout",
          "text": [
            "Test set: Average loss: 0.5322889089584351\n",
            "The model weights were saved\n",
            "Epoch 19\n"
          ]
        },
        {
          "output_type": "stream",
          "name": "stderr",
          "text": [
            "\n"
          ]
        },
        {
          "output_type": "stream",
          "name": "stdout",
          "text": [
            "Train loss: 0.486135\n"
          ]
        },
        {
          "output_type": "stream",
          "name": "stderr",
          "text": [
            "100%|██████████| 2/2 [00:00<00:00, 21.67it/s, Loss=0.532956]"
          ]
        },
        {
          "output_type": "stream",
          "name": "stdout",
          "text": [
            "Test set: Average loss: 0.532956063747406\n",
            "Epoch 20\n"
          ]
        },
        {
          "output_type": "stream",
          "name": "stderr",
          "text": [
            "\n"
          ]
        },
        {
          "output_type": "stream",
          "name": "stdout",
          "text": [
            "Train loss: 0.483925\n"
          ]
        },
        {
          "output_type": "stream",
          "name": "stderr",
          "text": [
            "100%|██████████| 2/2 [00:00<00:00, 23.93it/s, Loss=0.533216]"
          ]
        },
        {
          "output_type": "stream",
          "name": "stdout",
          "text": [
            "Test set: Average loss: 0.5332162082195282\n",
            "Epoch 21\n"
          ]
        },
        {
          "output_type": "stream",
          "name": "stderr",
          "text": [
            "\n"
          ]
        },
        {
          "output_type": "stream",
          "name": "stdout",
          "text": [
            "Train loss: 0.484849\n"
          ]
        },
        {
          "output_type": "stream",
          "name": "stderr",
          "text": [
            "100%|██████████| 2/2 [00:00<00:00, 23.24it/s, Loss=0.533892]"
          ]
        },
        {
          "output_type": "stream",
          "name": "stdout",
          "text": [
            "Test set: Average loss: 0.5338922739028931\n",
            "Epoch 22\n"
          ]
        },
        {
          "output_type": "stream",
          "name": "stderr",
          "text": [
            "\n"
          ]
        },
        {
          "output_type": "stream",
          "name": "stdout",
          "text": [
            "Train loss: 0.482325\n"
          ]
        },
        {
          "output_type": "stream",
          "name": "stderr",
          "text": [
            "100%|██████████| 2/2 [00:00<00:00, 19.46it/s, Loss=0.533552]"
          ]
        },
        {
          "output_type": "stream",
          "name": "stdout",
          "text": [
            "Test set: Average loss: 0.5335517525672913\n",
            "Epoch 23\n"
          ]
        },
        {
          "output_type": "stream",
          "name": "stderr",
          "text": [
            "\n"
          ]
        },
        {
          "output_type": "stream",
          "name": "stdout",
          "text": [
            "Train loss: 0.482808\n"
          ]
        },
        {
          "output_type": "stream",
          "name": "stderr",
          "text": [
            "100%|██████████| 2/2 [00:00<00:00, 23.54it/s, Loss=0.532235]"
          ]
        },
        {
          "output_type": "stream",
          "name": "stdout",
          "text": [
            "Test set: Average loss: 0.5322349667549133\n",
            "The model weights were saved\n",
            "Epoch 24\n"
          ]
        },
        {
          "output_type": "stream",
          "name": "stderr",
          "text": [
            "\n"
          ]
        },
        {
          "output_type": "stream",
          "name": "stdout",
          "text": [
            "Train loss: 0.481417\n"
          ]
        },
        {
          "output_type": "stream",
          "name": "stderr",
          "text": [
            "100%|██████████| 2/2 [00:00<00:00, 23.42it/s, Loss=0.532481]"
          ]
        },
        {
          "output_type": "stream",
          "name": "stdout",
          "text": [
            "Test set: Average loss: 0.5324805974960327\n",
            "Epoch 25\n"
          ]
        },
        {
          "output_type": "stream",
          "name": "stderr",
          "text": [
            "\n"
          ]
        },
        {
          "output_type": "stream",
          "name": "stdout",
          "text": [
            "Train loss: 0.483193\n"
          ]
        },
        {
          "output_type": "stream",
          "name": "stderr",
          "text": [
            "100%|██████████| 2/2 [00:00<00:00, 22.13it/s, Loss=0.532542]"
          ]
        },
        {
          "output_type": "stream",
          "name": "stdout",
          "text": [
            "Test set: Average loss: 0.5325419306755066\n",
            "Epoch 26\n"
          ]
        },
        {
          "output_type": "stream",
          "name": "stderr",
          "text": [
            "\n"
          ]
        },
        {
          "output_type": "stream",
          "name": "stdout",
          "text": [
            "Train loss: 0.478918\n"
          ]
        },
        {
          "output_type": "stream",
          "name": "stderr",
          "text": [
            "100%|██████████| 2/2 [00:00<00:00, 24.35it/s, Loss=0.532098]"
          ]
        },
        {
          "output_type": "stream",
          "name": "stdout",
          "text": [
            "Test set: Average loss: 0.5320979654788971\n",
            "The model weights were saved\n",
            "Epoch 27\n"
          ]
        },
        {
          "output_type": "stream",
          "name": "stderr",
          "text": [
            "\n"
          ]
        },
        {
          "output_type": "stream",
          "name": "stdout",
          "text": [
            "Train loss: 0.481141\n"
          ]
        },
        {
          "output_type": "stream",
          "name": "stderr",
          "text": [
            "100%|██████████| 2/2 [00:00<00:00, 11.63it/s, Loss=0.532744]"
          ]
        },
        {
          "output_type": "stream",
          "name": "stdout",
          "text": [
            "Test set: Average loss: 0.5327438414096832\n",
            "Epoch 28\n"
          ]
        },
        {
          "output_type": "stream",
          "name": "stderr",
          "text": [
            "\n"
          ]
        },
        {
          "output_type": "stream",
          "name": "stdout",
          "text": [
            "Train loss: 0.480681\n"
          ]
        },
        {
          "output_type": "stream",
          "name": "stderr",
          "text": [
            "100%|██████████| 2/2 [00:00<00:00, 22.36it/s, Loss=0.532563]"
          ]
        },
        {
          "output_type": "stream",
          "name": "stdout",
          "text": [
            "Test set: Average loss: 0.5325630605220795\n",
            "Epoch 29\n"
          ]
        },
        {
          "output_type": "stream",
          "name": "stderr",
          "text": [
            "\n"
          ]
        },
        {
          "output_type": "stream",
          "name": "stdout",
          "text": [
            "Train loss: 0.482362\n"
          ]
        },
        {
          "output_type": "stream",
          "name": "stderr",
          "text": [
            "100%|██████████| 2/2 [00:00<00:00, 22.96it/s, Loss=0.531922]"
          ]
        },
        {
          "output_type": "stream",
          "name": "stdout",
          "text": [
            "Test set: Average loss: 0.5319222509860992\n",
            "The model weights were saved\n",
            "Epoch 30\n"
          ]
        },
        {
          "output_type": "stream",
          "name": "stderr",
          "text": [
            "\n"
          ]
        },
        {
          "output_type": "stream",
          "name": "stdout",
          "text": [
            "Train loss: 0.479964\n"
          ]
        },
        {
          "output_type": "stream",
          "name": "stderr",
          "text": [
            "100%|██████████| 2/2 [00:00<00:00, 22.19it/s, Loss=0.531347]"
          ]
        },
        {
          "output_type": "stream",
          "name": "stdout",
          "text": [
            "Test set: Average loss: 0.531347006559372\n",
            "The model weights were saved\n",
            "Epoch 31\n"
          ]
        },
        {
          "output_type": "stream",
          "name": "stderr",
          "text": [
            "\n"
          ]
        },
        {
          "output_type": "stream",
          "name": "stdout",
          "text": [
            "Train loss: 0.478818\n"
          ]
        },
        {
          "output_type": "stream",
          "name": "stderr",
          "text": [
            "100%|██████████| 2/2 [00:00<00:00, 23.71it/s, Loss=0.531735]"
          ]
        },
        {
          "output_type": "stream",
          "name": "stdout",
          "text": [
            "Test set: Average loss: 0.5317346453666687\n",
            "Epoch 32\n"
          ]
        },
        {
          "output_type": "stream",
          "name": "stderr",
          "text": [
            "\n"
          ]
        },
        {
          "output_type": "stream",
          "name": "stdout",
          "text": [
            "Train loss: 0.479380\n"
          ]
        },
        {
          "output_type": "stream",
          "name": "stderr",
          "text": [
            "100%|██████████| 2/2 [00:00<00:00, 23.33it/s, Loss=0.533408]"
          ]
        },
        {
          "output_type": "stream",
          "name": "stdout",
          "text": [
            "Test set: Average loss: 0.5334082543849945\n",
            "Epoch 33\n"
          ]
        },
        {
          "output_type": "stream",
          "name": "stderr",
          "text": [
            "\n"
          ]
        },
        {
          "output_type": "stream",
          "name": "stdout",
          "text": [
            "Train loss: 0.480921\n"
          ]
        },
        {
          "output_type": "stream",
          "name": "stderr",
          "text": [
            "100%|██████████| 2/2 [00:00<00:00, 22.96it/s, Loss=0.533041]"
          ]
        },
        {
          "output_type": "stream",
          "name": "stdout",
          "text": [
            "Test set: Average loss: 0.5330406725406647\n",
            "Epoch 34\n"
          ]
        },
        {
          "output_type": "stream",
          "name": "stderr",
          "text": [
            "\n"
          ]
        },
        {
          "output_type": "stream",
          "name": "stdout",
          "text": [
            "Train loss: 0.482123\n"
          ]
        },
        {
          "output_type": "stream",
          "name": "stderr",
          "text": [
            "100%|██████████| 2/2 [00:00<00:00, 24.85it/s, Loss=0.532728]"
          ]
        },
        {
          "output_type": "stream",
          "name": "stdout",
          "text": [
            "Test set: Average loss: 0.5327284932136536\n",
            "Epoch 35\n"
          ]
        },
        {
          "output_type": "stream",
          "name": "stderr",
          "text": [
            "\n"
          ]
        },
        {
          "output_type": "stream",
          "name": "stdout",
          "text": [
            "Train loss: 0.479030\n"
          ]
        },
        {
          "output_type": "stream",
          "name": "stderr",
          "text": [
            "100%|██████████| 2/2 [00:00<00:00, 17.95it/s, Loss=0.532081]"
          ]
        },
        {
          "output_type": "stream",
          "name": "stdout",
          "text": [
            "Test set: Average loss: 0.532081127166748\n",
            "Epoch 36\n"
          ]
        },
        {
          "output_type": "stream",
          "name": "stderr",
          "text": [
            "\n"
          ]
        },
        {
          "output_type": "stream",
          "name": "stdout",
          "text": [
            "Train loss: 0.479941\n"
          ]
        },
        {
          "output_type": "stream",
          "name": "stderr",
          "text": [
            "100%|██████████| 2/2 [00:00<00:00, 22.83it/s, Loss=0.532098]"
          ]
        },
        {
          "output_type": "stream",
          "name": "stdout",
          "text": [
            "Test set: Average loss: 0.5320983529090881\n",
            "Epoch 37\n"
          ]
        },
        {
          "output_type": "stream",
          "name": "stderr",
          "text": [
            "\n"
          ]
        },
        {
          "output_type": "stream",
          "name": "stdout",
          "text": [
            "Train loss: 0.480548\n"
          ]
        },
        {
          "output_type": "stream",
          "name": "stderr",
          "text": [
            "100%|██████████| 2/2 [00:00<00:00, 23.38it/s, Loss=0.532399]"
          ]
        },
        {
          "output_type": "stream",
          "name": "stdout",
          "text": [
            "Test set: Average loss: 0.5323991775512695\n",
            "Epoch 38\n"
          ]
        },
        {
          "output_type": "stream",
          "name": "stderr",
          "text": [
            "\n"
          ]
        },
        {
          "output_type": "stream",
          "name": "stdout",
          "text": [
            "Train loss: 0.481974\n"
          ]
        },
        {
          "output_type": "stream",
          "name": "stderr",
          "text": [
            "100%|██████████| 2/2 [00:00<00:00, 16.15it/s, Loss=0.531907]"
          ]
        },
        {
          "output_type": "stream",
          "name": "stdout",
          "text": [
            "Test set: Average loss: 0.5319072902202606\n",
            "Epoch 39\n"
          ]
        },
        {
          "output_type": "stream",
          "name": "stderr",
          "text": [
            "\n"
          ]
        },
        {
          "output_type": "stream",
          "name": "stdout",
          "text": [
            "Train loss: 0.484033\n"
          ]
        },
        {
          "output_type": "stream",
          "name": "stderr",
          "text": [
            "100%|██████████| 2/2 [00:00<00:00, 16.20it/s, Loss=0.532559]"
          ]
        },
        {
          "output_type": "stream",
          "name": "stdout",
          "text": [
            "Test set: Average loss: 0.5325588881969452\n",
            "Epoch 40\n"
          ]
        },
        {
          "output_type": "stream",
          "name": "stderr",
          "text": [
            "\n"
          ]
        },
        {
          "output_type": "stream",
          "name": "stdout",
          "text": [
            "Train loss: 0.484060\n"
          ]
        },
        {
          "output_type": "stream",
          "name": "stderr",
          "text": [
            "100%|██████████| 2/2 [00:00<00:00, 16.06it/s, Loss=0.532096]"
          ]
        },
        {
          "output_type": "stream",
          "name": "stdout",
          "text": [
            "Test set: Average loss: 0.5320959091186523\n",
            "Epoch 41\n"
          ]
        },
        {
          "output_type": "stream",
          "name": "stderr",
          "text": [
            "\n"
          ]
        },
        {
          "output_type": "stream",
          "name": "stdout",
          "text": [
            "Train loss: 0.481922\n"
          ]
        },
        {
          "output_type": "stream",
          "name": "stderr",
          "text": [
            "100%|██████████| 2/2 [00:00<00:00, 16.56it/s, Loss=0.533037]"
          ]
        },
        {
          "output_type": "stream",
          "name": "stdout",
          "text": [
            "Test set: Average loss: 0.5330367386341095\n",
            "Epoch 42\n"
          ]
        },
        {
          "output_type": "stream",
          "name": "stderr",
          "text": [
            "\n"
          ]
        },
        {
          "output_type": "stream",
          "name": "stdout",
          "text": [
            "Train loss: 0.482744\n"
          ]
        },
        {
          "output_type": "stream",
          "name": "stderr",
          "text": [
            "100%|██████████| 2/2 [00:00<00:00, 11.77it/s, Loss=0.533414]"
          ]
        },
        {
          "output_type": "stream",
          "name": "stdout",
          "text": [
            "Test set: Average loss: 0.5334137976169586\n",
            "Epoch 43\n"
          ]
        },
        {
          "output_type": "stream",
          "name": "stderr",
          "text": [
            "\n"
          ]
        },
        {
          "output_type": "stream",
          "name": "stdout",
          "text": [
            "Train loss: 0.473877\n"
          ]
        },
        {
          "output_type": "stream",
          "name": "stderr",
          "text": [
            "100%|██████████| 2/2 [00:00<00:00, 21.69it/s, Loss=0.533659]"
          ]
        },
        {
          "output_type": "stream",
          "name": "stdout",
          "text": [
            "Test set: Average loss: 0.533658504486084\n",
            "Epoch 44\n"
          ]
        },
        {
          "output_type": "stream",
          "name": "stderr",
          "text": [
            "\n"
          ]
        },
        {
          "output_type": "stream",
          "name": "stdout",
          "text": [
            "Train loss: 0.482356\n"
          ]
        },
        {
          "output_type": "stream",
          "name": "stderr",
          "text": [
            "100%|██████████| 2/2 [00:00<00:00, 24.00it/s, Loss=0.533792]"
          ]
        },
        {
          "output_type": "stream",
          "name": "stdout",
          "text": [
            "Test set: Average loss: 0.5337916612625122\n",
            "Epoch 45\n"
          ]
        },
        {
          "output_type": "stream",
          "name": "stderr",
          "text": [
            "\n"
          ]
        },
        {
          "output_type": "stream",
          "name": "stdout",
          "text": [
            "Train loss: 0.478236\n"
          ]
        },
        {
          "output_type": "stream",
          "name": "stderr",
          "text": [
            "100%|██████████| 2/2 [00:00<00:00, 23.24it/s, Loss=0.531647]"
          ]
        },
        {
          "output_type": "stream",
          "name": "stdout",
          "text": [
            "Test set: Average loss: 0.5316473245620728\n",
            "Epoch 46\n"
          ]
        },
        {
          "output_type": "stream",
          "name": "stderr",
          "text": [
            "\n"
          ]
        },
        {
          "output_type": "stream",
          "name": "stdout",
          "text": [
            "Train loss: 0.480133\n"
          ]
        },
        {
          "output_type": "stream",
          "name": "stderr",
          "text": [
            "100%|██████████| 2/2 [00:00<00:00, 21.96it/s, Loss=0.531995]"
          ]
        },
        {
          "output_type": "stream",
          "name": "stdout",
          "text": [
            "Test set: Average loss: 0.5319945812225342\n",
            "Epoch 47\n"
          ]
        },
        {
          "output_type": "stream",
          "name": "stderr",
          "text": [
            "\n"
          ]
        },
        {
          "output_type": "stream",
          "name": "stdout",
          "text": [
            "Train loss: 0.478822\n"
          ]
        },
        {
          "output_type": "stream",
          "name": "stderr",
          "text": [
            "100%|██████████| 2/2 [00:00<00:00, 24.23it/s, Loss=0.533587]"
          ]
        },
        {
          "output_type": "stream",
          "name": "stdout",
          "text": [
            "Test set: Average loss: 0.533587247133255\n",
            "Epoch 48\n"
          ]
        },
        {
          "output_type": "stream",
          "name": "stderr",
          "text": [
            "\n"
          ]
        },
        {
          "output_type": "stream",
          "name": "stdout",
          "text": [
            "Train loss: 0.480744\n"
          ]
        },
        {
          "output_type": "stream",
          "name": "stderr",
          "text": [
            "100%|██████████| 2/2 [00:00<00:00, 19.98it/s, Loss=0.532656]"
          ]
        },
        {
          "output_type": "stream",
          "name": "stdout",
          "text": [
            "Test set: Average loss: 0.5326559841632843\n",
            "Epoch 49\n"
          ]
        },
        {
          "output_type": "stream",
          "name": "stderr",
          "text": [
            "\n"
          ]
        },
        {
          "output_type": "stream",
          "name": "stdout",
          "text": [
            "Train loss: 0.480332\n"
          ]
        },
        {
          "output_type": "stream",
          "name": "stderr",
          "text": [
            "100%|██████████| 2/2 [00:00<00:00, 23.11it/s, Loss=0.533409]"
          ]
        },
        {
          "output_type": "stream",
          "name": "stdout",
          "text": [
            "Test set: Average loss: 0.5334092378616333\n",
            "Epoch 50\n"
          ]
        },
        {
          "output_type": "stream",
          "name": "stderr",
          "text": [
            "\n"
          ]
        },
        {
          "output_type": "stream",
          "name": "stdout",
          "text": [
            "Train loss: 0.484501\n"
          ]
        },
        {
          "output_type": "stream",
          "name": "stderr",
          "text": [
            "100%|██████████| 2/2 [00:00<00:00, 22.72it/s, Loss=0.532964]"
          ]
        },
        {
          "output_type": "stream",
          "name": "stdout",
          "text": [
            "Test set: Average loss: 0.5329636037349701\n",
            "Epoch 51\n"
          ]
        },
        {
          "output_type": "stream",
          "name": "stderr",
          "text": [
            "\n"
          ]
        },
        {
          "output_type": "stream",
          "name": "stdout",
          "text": [
            "Train loss: 0.481025\n"
          ]
        },
        {
          "output_type": "stream",
          "name": "stderr",
          "text": [
            "100%|██████████| 2/2 [00:00<00:00, 24.55it/s, Loss=0.531738]"
          ]
        },
        {
          "output_type": "stream",
          "name": "stdout",
          "text": [
            "Test set: Average loss: 0.531737744808197\n",
            "Epoch 52\n"
          ]
        },
        {
          "output_type": "stream",
          "name": "stderr",
          "text": [
            "\n"
          ]
        },
        {
          "output_type": "stream",
          "name": "stdout",
          "text": [
            "Train loss: 0.481676\n"
          ]
        },
        {
          "output_type": "stream",
          "name": "stderr",
          "text": [
            "100%|██████████| 2/2 [00:00<00:00, 23.03it/s, Loss=0.531942]"
          ]
        },
        {
          "output_type": "stream",
          "name": "stdout",
          "text": [
            "Test set: Average loss: 0.5319424867630005\n",
            "Epoch 53\n"
          ]
        },
        {
          "output_type": "stream",
          "name": "stderr",
          "text": [
            "\n"
          ]
        },
        {
          "output_type": "stream",
          "name": "stdout",
          "text": [
            "Train loss: 0.477972\n"
          ]
        },
        {
          "output_type": "stream",
          "name": "stderr",
          "text": [
            "100%|██████████| 2/2 [00:00<00:00, 17.47it/s, Loss=0.532053]"
          ]
        },
        {
          "output_type": "stream",
          "name": "stdout",
          "text": [
            "Test set: Average loss: 0.532052606344223\n",
            "Epoch 54\n"
          ]
        },
        {
          "output_type": "stream",
          "name": "stderr",
          "text": [
            "\n"
          ]
        },
        {
          "output_type": "stream",
          "name": "stdout",
          "text": [
            "Train loss: 0.483325\n"
          ]
        },
        {
          "output_type": "stream",
          "name": "stderr",
          "text": [
            "100%|██████████| 2/2 [00:00<00:00, 24.02it/s, Loss=0.533208]"
          ]
        },
        {
          "output_type": "stream",
          "name": "stdout",
          "text": [
            "Test set: Average loss: 0.5332080125808716\n",
            "Epoch 55\n"
          ]
        },
        {
          "output_type": "stream",
          "name": "stderr",
          "text": [
            "\n"
          ]
        },
        {
          "output_type": "stream",
          "name": "stdout",
          "text": [
            "Train loss: 0.479673\n"
          ]
        },
        {
          "output_type": "stream",
          "name": "stderr",
          "text": [
            "100%|██████████| 2/2 [00:00<00:00, 22.98it/s, Loss=0.534140]"
          ]
        },
        {
          "output_type": "stream",
          "name": "stdout",
          "text": [
            "Test set: Average loss: 0.5341399610042572\n",
            "The pretrain starts to overfit, so stop the pretraining process\n",
            "The best loss obtained is 0.53135 at epoch 30\n",
            "\n",
            "First loss is 1.1549\n",
            "Best loss is 0.5313 at epoch 30\n",
            "Train time 0.414 Test time 0.11\n"
          ]
        },
        {
          "output_type": "stream",
          "name": "stderr",
          "text": [
            "\n"
          ]
        }
      ]
    },
    {
      "cell_type": "code",
      "source": [
        "# Load best model\n",
        "model.load_state_dict(torch.load(save_pt_model_path, weights_only=True))"
      ],
      "metadata": {
        "colab": {
          "base_uri": "https://localhost:8080/"
        },
        "id": "401cHgzl0V2Q",
        "outputId": "e3abf6c7-88c7-4d5a-9fd4-3c6619c6b4b5"
      },
      "execution_count": null,
      "outputs": [
        {
          "output_type": "execute_result",
          "data": {
            "text/plain": [
              "<All keys matched successfully>"
            ]
          },
          "metadata": {},
          "execution_count": 24
        }
      ]
    },
    {
      "cell_type": "code",
      "source": [
        "from utils.visualization import plot_pca_tsne_pids\n",
        "# Visualize embeddings\n",
        "# One color mean one positive pair\n",
        "plot_pca_tsne_pids(f\"Pretrained embedding with augmentations\", f\"outputs/\"+ num_exp+\"_pt_vid_aug\",\n",
        "           model, test_loader_pt, num_video, num_elements=500, show_vid=True, device=device)"
      ],
      "metadata": {
        "colab": {
          "base_uri": "https://localhost:8080/",
          "height": 754
        },
        "id": "zph9ylas-Pkz",
        "outputId": "08363556-e975-4c19-fa53-5f4c067a97c3"
      },
      "execution_count": null,
      "outputs": [
        {
          "output_type": "stream",
          "name": "stdout",
          "text": [
            "\n",
            "Pretrained embedding with augmentations\n",
            "\n"
          ]
        },
        {
          "output_type": "display_data",
          "data": {
            "text/plain": [
              "<Figure size 800x800 with 4 Axes>"
            ],
            "image/png": "[encoded data removed]"
          },
          "metadata": {}
        }
      ]
    },
    {
      "cell_type": "markdown",
      "source": [
        "### Downstream task"
      ],
      "metadata": {
        "id": "8tDQk0os-Yn7"
      }
    },
    {
      "cell_type": "code",
      "source": [
        "from models.cnn.classifier import get_sequential_classifier\n",
        "ft_model = get_sequential_classifier(model, num_classes, emb_dim=emb_dim)"
      ],
      "metadata": {
        "id": "rqRg20Au-Phf"
      },
      "execution_count": null,
      "outputs": []
    },
    {
      "cell_type": "code",
      "source": [
        "# If needed layers freezing\n",
        "# for param in ft_model[0].parameters():\n",
        "#     param.requires_grad = False"
      ],
      "metadata": {
        "id": "ysI2iOY_-Pfd"
      },
      "execution_count": null,
      "outputs": []
    },
    {
      "cell_type": "code",
      "source": [
        "import torch.nn as nn\n",
        "\n",
        "finetuning_epochs = 200\n",
        "finetuning_wait_epochs = 25\n",
        "sensitivity_early_stop = 1.0001\n",
        "sensitivity_save_weights = 1.0001\n",
        "save_weights_path = \"model_weights/\"\n",
        "save_final_model_path = \"model_weights/cnn_ft_\"+num_exp+\".pth\"\n",
        "\n",
        "optimizer = optim.Adam(ft_model.parameters(), lr=0.0001)\n",
        "ft_scheduler = None\n",
        "# ft_scheduler = torch.optim.lr_scheduler.CyclicLR(optimizer, base_lr=0.001, max_lr=0.1,step_size_up=5,mode=\"exp_range\",gamma=0.85)\n",
        "\n",
        "finetuning_criterion = nn.CrossEntropyLoss()\n",
        "if num_classes == 2:\n",
        "    finetuning_criterion = nn.BCEWithLogitsLoss()\n",
        "\n",
        "ft_model = ft_model.to(device)"
      ],
      "metadata": {
        "id": "HxubvaFL-z-X"
      },
      "execution_count": null,
      "outputs": []
    },
    {
      "cell_type": "code",
      "source": [
        "from utils.test_run_classification import run_classification\n",
        "\n",
        "_, losses, accs, ft_train_time, ft_test_time = run_classification(device, ft_model,\n",
        "                   train_loader_ft, test_loader_ft,\n",
        "                   optimizer, finetuning_criterion,\n",
        "\n",
        "                   finetuning_epochs, finetuning_wait_epochs,\n",
        "                   sensitivity_early_stop = sensitivity_early_stop,\n",
        "                   sensitivity_save_weights = sensitivity_save_weights,\n",
        "                   save_final_model_path=save_final_model_path, pt_scheduler =ft_scheduler)\n",
        "\n",
        "# Print statistics\n",
        "print()\n",
        "print(\"First loss\", round(losses[0], 4))\n",
        "print(\"Best loss\", round(min(losses), 4), \"at epoch\", np.argmin(losses))\n",
        "print()\n",
        "print(\"Stable accuracy\", str(round(100*accs[np.argmin(losses)], 1)) + \"%\")\n",
        "print(\"Best accuracy\", str(round(100*max(accs), 1))+ \"% at epoch\", np.argmax(accs))\n",
        "print(\"Train time\", round(ft_train_time, 3), \"sec \\nTest time\",  round(ft_test_time, 3), \"sec\")"
      ],
      "metadata": {
        "colab": {
          "base_uri": "https://localhost:8080/"
        },
        "id": "R6lt2Kri-38F",
        "outputId": "12b3af9f-efd8-45b4-f7f5-e34affdb0afa"
      },
      "execution_count": null,
      "outputs": [
        {
          "output_type": "stream",
          "name": "stderr",
          "text": [
            "100%|██████████| 1/1 [00:00<00:00, 12.07it/s, Loss=1.081552, AUC=0.385185, F1=0.335981]\n"
          ]
        },
        {
          "output_type": "stream",
          "name": "stdout",
          "text": [
            "Epoch 1\n",
            "Train loss: 0.943272\n"
          ]
        },
        {
          "output_type": "stream",
          "name": "stderr",
          "text": [
            "100%|██████████| 1/1 [00:00<00:00, 32.77it/s, Loss=0.958110, AUC=0.607407, F1=0.568548]\n"
          ]
        },
        {
          "output_type": "stream",
          "name": "stdout",
          "text": [
            "The model weights were saved\n",
            "Epoch 2\n",
            "Train loss: 0.446274\n"
          ]
        },
        {
          "output_type": "stream",
          "name": "stderr",
          "text": [
            "100%|██████████| 1/1 [00:00<00:00, 42.10it/s, Loss=0.856640, AUC=0.725926, F1=0.720449]\n"
          ]
        },
        {
          "output_type": "stream",
          "name": "stdout",
          "text": [
            "The model weights were saved\n",
            "Epoch 3\n",
            "Train loss: 0.268218\n"
          ]
        },
        {
          "output_type": "stream",
          "name": "stderr",
          "text": [
            "100%|██████████| 1/1 [00:00<00:00, 42.36it/s, Loss=0.767324, AUC=0.807407, F1=0.806771]"
          ]
        },
        {
          "output_type": "stream",
          "name": "stdout",
          "text": [
            "The model weights were saved\n",
            "Epoch 4\n"
          ]
        },
        {
          "output_type": "stream",
          "name": "stderr",
          "text": [
            "\n"
          ]
        },
        {
          "output_type": "stream",
          "name": "stdout",
          "text": [
            "Train loss: 0.168319\n"
          ]
        },
        {
          "output_type": "stream",
          "name": "stderr",
          "text": [
            "100%|██████████| 1/1 [00:00<00:00, 41.64it/s, Loss=0.693177, AUC=0.807407, F1=0.806771]"
          ]
        },
        {
          "output_type": "stream",
          "name": "stdout",
          "text": [
            "The model weights were saved\n",
            "Epoch 5\n"
          ]
        },
        {
          "output_type": "stream",
          "name": "stderr",
          "text": [
            "\n"
          ]
        },
        {
          "output_type": "stream",
          "name": "stdout",
          "text": [
            "Train loss: 0.116712\n"
          ]
        },
        {
          "output_type": "stream",
          "name": "stderr",
          "text": [
            "100%|██████████| 1/1 [00:00<00:00, 41.97it/s, Loss=0.629787, AUC=0.837037, F1=0.836859]\n"
          ]
        },
        {
          "output_type": "stream",
          "name": "stdout",
          "text": [
            "The model weights were saved\n",
            "Epoch 6\n",
            "Train loss: 0.090672\n"
          ]
        },
        {
          "output_type": "stream",
          "name": "stderr",
          "text": [
            "100%|██████████| 1/1 [00:00<00:00, 36.88it/s, Loss=0.578637, AUC=0.851852, F1=0.851969]"
          ]
        },
        {
          "output_type": "stream",
          "name": "stdout",
          "text": [
            "The model weights were saved\n",
            "Epoch 7\n"
          ]
        },
        {
          "output_type": "stream",
          "name": "stderr",
          "text": [
            "\n"
          ]
        },
        {
          "output_type": "stream",
          "name": "stdout",
          "text": [
            "Train loss: 0.061828\n"
          ]
        },
        {
          "output_type": "stream",
          "name": "stderr",
          "text": [
            "100%|██████████| 1/1 [00:00<00:00, 41.80it/s, Loss=0.536983, AUC=0.859259, F1=0.859511]"
          ]
        },
        {
          "output_type": "stream",
          "name": "stdout",
          "text": [
            "The model weights were saved\n",
            "Epoch 8\n"
          ]
        },
        {
          "output_type": "stream",
          "name": "stderr",
          "text": [
            "\n"
          ]
        },
        {
          "output_type": "stream",
          "name": "stdout",
          "text": [
            "Train loss: 0.064563\n"
          ]
        },
        {
          "output_type": "stream",
          "name": "stderr",
          "text": [
            "100%|██████████| 1/1 [00:00<00:00, 30.36it/s, Loss=0.507512, AUC=0.866667, F1=0.867011]\n"
          ]
        },
        {
          "output_type": "stream",
          "name": "stdout",
          "text": [
            "The model weights were saved\n",
            "Epoch 9\n",
            "Train loss: 0.053513\n"
          ]
        },
        {
          "output_type": "stream",
          "name": "stderr",
          "text": [
            "100%|██████████| 1/1 [00:00<00:00, 39.35it/s, Loss=0.484187, AUC=0.859259, F1=0.859210]\n"
          ]
        },
        {
          "output_type": "stream",
          "name": "stdout",
          "text": [
            "The model weights were saved\n",
            "Epoch 10\n",
            "Train loss: 0.029273\n"
          ]
        },
        {
          "output_type": "stream",
          "name": "stderr",
          "text": [
            "100%|██████████| 1/1 [00:00<00:00, 42.12it/s, Loss=0.466166, AUC=0.859259, F1=0.859210]\n"
          ]
        },
        {
          "output_type": "stream",
          "name": "stdout",
          "text": [
            "The model weights were saved\n",
            "Epoch 11\n",
            "Train loss: 0.032036\n"
          ]
        },
        {
          "output_type": "stream",
          "name": "stderr",
          "text": [
            "100%|██████████| 1/1 [00:00<00:00, 39.10it/s, Loss=0.451504, AUC=0.866667, F1=0.866733]"
          ]
        },
        {
          "output_type": "stream",
          "name": "stdout",
          "text": [
            "The model weights were saved\n",
            "Epoch 12\n"
          ]
        },
        {
          "output_type": "stream",
          "name": "stderr",
          "text": [
            "\n"
          ]
        },
        {
          "output_type": "stream",
          "name": "stdout",
          "text": [
            "Train loss: 0.022944\n"
          ]
        },
        {
          "output_type": "stream",
          "name": "stderr",
          "text": [
            "100%|██████████| 1/1 [00:00<00:00, 39.72it/s, Loss=0.438181, AUC=0.866667, F1=0.866733]\n"
          ]
        },
        {
          "output_type": "stream",
          "name": "stdout",
          "text": [
            "The model weights were saved\n",
            "Epoch 13\n",
            "Train loss: 0.021874\n"
          ]
        },
        {
          "output_type": "stream",
          "name": "stderr",
          "text": [
            "100%|██████████| 1/1 [00:00<00:00, 42.01it/s, Loss=0.430376, AUC=0.866667, F1=0.866733]"
          ]
        },
        {
          "output_type": "stream",
          "name": "stdout",
          "text": [
            "The model weights were saved\n",
            "Epoch 14\n"
          ]
        },
        {
          "output_type": "stream",
          "name": "stderr",
          "text": [
            "\n"
          ]
        },
        {
          "output_type": "stream",
          "name": "stdout",
          "text": [
            "Train loss: 0.027757\n"
          ]
        },
        {
          "output_type": "stream",
          "name": "stderr",
          "text": [
            "100%|██████████| 1/1 [00:00<00:00, 42.08it/s, Loss=0.428402, AUC=0.866667, F1=0.866179]"
          ]
        },
        {
          "output_type": "stream",
          "name": "stdout",
          "text": [
            "The model weights were saved\n",
            "Epoch 15\n"
          ]
        },
        {
          "output_type": "stream",
          "name": "stderr",
          "text": [
            "\n"
          ]
        },
        {
          "output_type": "stream",
          "name": "stdout",
          "text": [
            "Train loss: 0.018873\n"
          ]
        },
        {
          "output_type": "stream",
          "name": "stderr",
          "text": [
            "100%|██████████| 1/1 [00:00<00:00, 39.25it/s, Loss=0.427092, AUC=0.859259, F1=0.858335]\n"
          ]
        },
        {
          "output_type": "stream",
          "name": "stdout",
          "text": [
            "The model weights were saved\n",
            "Epoch 16\n",
            "Train loss: 0.016224\n"
          ]
        },
        {
          "output_type": "stream",
          "name": "stderr",
          "text": [
            "100%|██████████| 1/1 [00:00<00:00, 42.04it/s, Loss=0.419863, AUC=0.859259, F1=0.858699]"
          ]
        },
        {
          "output_type": "stream",
          "name": "stdout",
          "text": [
            "The model weights were saved\n",
            "Epoch 17\n"
          ]
        },
        {
          "output_type": "stream",
          "name": "stderr",
          "text": [
            "\n"
          ]
        },
        {
          "output_type": "stream",
          "name": "stdout",
          "text": [
            "Train loss: 0.016226\n"
          ]
        },
        {
          "output_type": "stream",
          "name": "stderr",
          "text": [
            "100%|██████████| 1/1 [00:00<00:00, 38.10it/s, Loss=0.414446, AUC=0.866667, F1=0.866806]\n"
          ]
        },
        {
          "output_type": "stream",
          "name": "stdout",
          "text": [
            "The model weights were saved\n",
            "Epoch 18\n",
            "Train loss: 0.019005\n"
          ]
        },
        {
          "output_type": "stream",
          "name": "stderr",
          "text": [
            "100%|██████████| 1/1 [00:00<00:00, 26.62it/s, Loss=0.410304, AUC=0.874074, F1=0.874501]\n"
          ]
        },
        {
          "output_type": "stream",
          "name": "stdout",
          "text": [
            "The model weights were saved\n",
            "Epoch 19\n",
            "Train loss: 0.013195\n"
          ]
        },
        {
          "output_type": "stream",
          "name": "stderr",
          "text": [
            "100%|██████████| 1/1 [00:00<00:00, 39.22it/s, Loss=0.409217, AUC=0.874074, F1=0.874222]\n"
          ]
        },
        {
          "output_type": "stream",
          "name": "stdout",
          "text": [
            "The model weights were saved\n",
            "Epoch 20\n",
            "Train loss: 0.010689\n"
          ]
        },
        {
          "output_type": "stream",
          "name": "stderr",
          "text": [
            "100%|██████████| 1/1 [00:00<00:00, 42.54it/s, Loss=0.408909, AUC=0.866667, F1=0.867149]"
          ]
        },
        {
          "output_type": "stream",
          "name": "stdout",
          "text": [
            "The model weights were saved\n",
            "Epoch 21\n"
          ]
        },
        {
          "output_type": "stream",
          "name": "stderr",
          "text": [
            "\n"
          ]
        },
        {
          "output_type": "stream",
          "name": "stdout",
          "text": [
            "Train loss: 0.010081\n"
          ]
        },
        {
          "output_type": "stream",
          "name": "stderr",
          "text": [
            "100%|██████████| 1/1 [00:00<00:00, 35.03it/s, Loss=0.409520, AUC=0.866667, F1=0.867149]"
          ]
        },
        {
          "output_type": "stream",
          "name": "stdout",
          "text": [
            "Epoch 22\n"
          ]
        },
        {
          "output_type": "stream",
          "name": "stderr",
          "text": [
            "\n"
          ]
        },
        {
          "output_type": "stream",
          "name": "stdout",
          "text": [
            "Train loss: 0.010664\n"
          ]
        },
        {
          "output_type": "stream",
          "name": "stderr",
          "text": [
            "100%|██████████| 1/1 [00:00<00:00, 40.08it/s, Loss=0.408189, AUC=0.866667, F1=0.866806]"
          ]
        },
        {
          "output_type": "stream",
          "name": "stdout",
          "text": [
            "The model weights were saved\n",
            "Epoch 23\n"
          ]
        },
        {
          "output_type": "stream",
          "name": "stderr",
          "text": [
            "\n"
          ]
        },
        {
          "output_type": "stream",
          "name": "stdout",
          "text": [
            "Train loss: 0.009675\n"
          ]
        },
        {
          "output_type": "stream",
          "name": "stderr",
          "text": [
            "100%|██████████| 1/1 [00:00<00:00, 41.75it/s, Loss=0.408213, AUC=0.866667, F1=0.866504]"
          ]
        },
        {
          "output_type": "stream",
          "name": "stdout",
          "text": [
            "Epoch 24\n"
          ]
        },
        {
          "output_type": "stream",
          "name": "stderr",
          "text": [
            "\n"
          ]
        },
        {
          "output_type": "stream",
          "name": "stdout",
          "text": [
            "Train loss: 0.009774\n"
          ]
        },
        {
          "output_type": "stream",
          "name": "stderr",
          "text": [
            "100%|██████████| 1/1 [00:00<00:00, 34.98it/s, Loss=0.410942, AUC=0.859259, F1=0.859191]"
          ]
        },
        {
          "output_type": "stream",
          "name": "stdout",
          "text": [
            "Epoch 25\n"
          ]
        },
        {
          "output_type": "stream",
          "name": "stderr",
          "text": [
            "\n"
          ]
        },
        {
          "output_type": "stream",
          "name": "stdout",
          "text": [
            "Train loss: 0.009304\n"
          ]
        },
        {
          "output_type": "stream",
          "name": "stderr",
          "text": [
            "100%|██████████| 1/1 [00:00<00:00, 26.35it/s, Loss=0.410150, AUC=0.866667, F1=0.866504]"
          ]
        },
        {
          "output_type": "stream",
          "name": "stdout",
          "text": [
            "Epoch 26\n"
          ]
        },
        {
          "output_type": "stream",
          "name": "stderr",
          "text": [
            "\n"
          ]
        },
        {
          "output_type": "stream",
          "name": "stdout",
          "text": [
            "Train loss: 0.011273\n"
          ]
        },
        {
          "output_type": "stream",
          "name": "stderr",
          "text": [
            "100%|██████████| 1/1 [00:00<00:00, 40.89it/s, Loss=0.412238, AUC=0.859259, F1=0.859191]"
          ]
        },
        {
          "output_type": "stream",
          "name": "stdout",
          "text": [
            "Epoch 27\n"
          ]
        },
        {
          "output_type": "stream",
          "name": "stderr",
          "text": [
            "\n"
          ]
        },
        {
          "output_type": "stream",
          "name": "stdout",
          "text": [
            "Train loss: 0.007801\n"
          ]
        },
        {
          "output_type": "stream",
          "name": "stderr",
          "text": [
            "100%|██████████| 1/1 [00:00<00:00, 38.86it/s, Loss=0.413946, AUC=0.874074, F1=0.873977]"
          ]
        },
        {
          "output_type": "stream",
          "name": "stdout",
          "text": [
            "Epoch 28\n"
          ]
        },
        {
          "output_type": "stream",
          "name": "stderr",
          "text": [
            "\n"
          ]
        },
        {
          "output_type": "stream",
          "name": "stdout",
          "text": [
            "Train loss: 0.008153\n"
          ]
        },
        {
          "output_type": "stream",
          "name": "stderr",
          "text": [
            "100%|██████████| 1/1 [00:00<00:00, 28.67it/s, Loss=0.414762, AUC=0.874074, F1=0.873977]"
          ]
        },
        {
          "output_type": "stream",
          "name": "stdout",
          "text": [
            "Epoch 29\n"
          ]
        },
        {
          "output_type": "stream",
          "name": "stderr",
          "text": [
            "\n"
          ]
        },
        {
          "output_type": "stream",
          "name": "stdout",
          "text": [
            "Train loss: 0.007442\n"
          ]
        },
        {
          "output_type": "stream",
          "name": "stderr",
          "text": [
            "100%|██████████| 1/1 [00:00<00:00, 42.91it/s, Loss=0.409662, AUC=0.866667, F1=0.866504]"
          ]
        },
        {
          "output_type": "stream",
          "name": "stdout",
          "text": [
            "Epoch 30\n"
          ]
        },
        {
          "output_type": "stream",
          "name": "stderr",
          "text": [
            "\n"
          ]
        },
        {
          "output_type": "stream",
          "name": "stdout",
          "text": [
            "Train loss: 0.010167\n"
          ]
        },
        {
          "output_type": "stream",
          "name": "stderr",
          "text": [
            "100%|██████████| 1/1 [00:00<00:00, 38.49it/s, Loss=0.406285, AUC=0.866667, F1=0.866806]"
          ]
        },
        {
          "output_type": "stream",
          "name": "stdout",
          "text": [
            "The model weights were saved\n",
            "Epoch 31\n"
          ]
        },
        {
          "output_type": "stream",
          "name": "stderr",
          "text": [
            "\n"
          ]
        },
        {
          "output_type": "stream",
          "name": "stdout",
          "text": [
            "Train loss: 0.007209\n"
          ]
        },
        {
          "output_type": "stream",
          "name": "stderr",
          "text": [
            "100%|██████████| 1/1 [00:00<00:00, 44.31it/s, Loss=0.408419, AUC=0.866667, F1=0.866504]"
          ]
        },
        {
          "output_type": "stream",
          "name": "stdout",
          "text": [
            "Epoch 32\n"
          ]
        },
        {
          "output_type": "stream",
          "name": "stderr",
          "text": [
            "\n"
          ]
        },
        {
          "output_type": "stream",
          "name": "stdout",
          "text": [
            "Train loss: 0.006047\n"
          ]
        },
        {
          "output_type": "stream",
          "name": "stderr",
          "text": [
            "100%|██████████| 1/1 [00:00<00:00, 42.57it/s, Loss=0.408978, AUC=0.859259, F1=0.859081]"
          ]
        },
        {
          "output_type": "stream",
          "name": "stdout",
          "text": [
            "Epoch 33\n"
          ]
        },
        {
          "output_type": "stream",
          "name": "stderr",
          "text": [
            "\n"
          ]
        },
        {
          "output_type": "stream",
          "name": "stdout",
          "text": [
            "Train loss: 0.013609\n"
          ]
        },
        {
          "output_type": "stream",
          "name": "stderr",
          "text": [
            "100%|██████████| 1/1 [00:00<00:00, 19.62it/s, Loss=0.408012, AUC=0.866667, F1=0.866757]"
          ]
        },
        {
          "output_type": "stream",
          "name": "stdout",
          "text": [
            "Epoch 34\n"
          ]
        },
        {
          "output_type": "stream",
          "name": "stderr",
          "text": [
            "\n"
          ]
        },
        {
          "output_type": "stream",
          "name": "stdout",
          "text": [
            "Train loss: 0.006202\n"
          ]
        },
        {
          "output_type": "stream",
          "name": "stderr",
          "text": [
            "100%|██████████| 1/1 [00:00<00:00, 23.40it/s, Loss=0.408738, AUC=0.866667, F1=0.866757]"
          ]
        },
        {
          "output_type": "stream",
          "name": "stdout",
          "text": [
            "Epoch 35\n"
          ]
        },
        {
          "output_type": "stream",
          "name": "stderr",
          "text": [
            "\n"
          ]
        },
        {
          "output_type": "stream",
          "name": "stdout",
          "text": [
            "Train loss: 0.006100\n"
          ]
        },
        {
          "output_type": "stream",
          "name": "stderr",
          "text": [
            "100%|██████████| 1/1 [00:00<00:00, 28.37it/s, Loss=0.410001, AUC=0.859259, F1=0.859081]\n"
          ]
        },
        {
          "output_type": "stream",
          "name": "stdout",
          "text": [
            "Epoch 36\n",
            "Train loss: 0.005663\n"
          ]
        },
        {
          "output_type": "stream",
          "name": "stderr",
          "text": [
            "100%|██████████| 1/1 [00:00<00:00, 26.58it/s, Loss=0.410124, AUC=0.859259, F1=0.859081]\n"
          ]
        },
        {
          "output_type": "stream",
          "name": "stdout",
          "text": [
            "Epoch 37\n",
            "Train loss: 0.004743\n"
          ]
        },
        {
          "output_type": "stream",
          "name": "stderr",
          "text": [
            "100%|██████████| 1/1 [00:00<00:00, 28.69it/s, Loss=0.411783, AUC=0.859259, F1=0.859081]\n"
          ]
        },
        {
          "output_type": "stream",
          "name": "stdout",
          "text": [
            "Epoch 38\n",
            "Train loss: 0.006050\n"
          ]
        },
        {
          "output_type": "stream",
          "name": "stderr",
          "text": [
            "100%|██████████| 1/1 [00:00<00:00, 26.08it/s, Loss=0.407932, AUC=0.881481, F1=0.881606]\n"
          ]
        },
        {
          "output_type": "stream",
          "name": "stdout",
          "text": [
            "Epoch 39\n",
            "Train loss: 0.004659\n"
          ]
        },
        {
          "output_type": "stream",
          "name": "stderr",
          "text": [
            "100%|██████████| 1/1 [00:00<00:00, 28.51it/s, Loss=0.408996, AUC=0.866667, F1=0.866806]\n"
          ]
        },
        {
          "output_type": "stream",
          "name": "stdout",
          "text": [
            "Epoch 40\n",
            "Train loss: 0.005730\n"
          ]
        },
        {
          "output_type": "stream",
          "name": "stderr",
          "text": [
            "100%|██████████| 1/1 [00:00<00:00, 22.45it/s, Loss=0.406603, AUC=0.851852, F1=0.851700]\n"
          ]
        },
        {
          "output_type": "stream",
          "name": "stdout",
          "text": [
            "Epoch 41\n",
            "Train loss: 0.006338\n"
          ]
        },
        {
          "output_type": "stream",
          "name": "stderr",
          "text": [
            "100%|██████████| 1/1 [00:00<00:00, 25.95it/s, Loss=0.404027, AUC=0.851852, F1=0.851948]\n"
          ]
        },
        {
          "output_type": "stream",
          "name": "stdout",
          "text": [
            "The model weights were saved\n",
            "Epoch 42\n",
            "Train loss: 0.005237\n"
          ]
        },
        {
          "output_type": "stream",
          "name": "stderr",
          "text": [
            "100%|██████████| 1/1 [00:00<00:00, 29.50it/s, Loss=0.403249, AUC=0.866667, F1=0.866837]\n"
          ]
        },
        {
          "output_type": "stream",
          "name": "stdout",
          "text": [
            "The model weights were saved\n",
            "Epoch 43\n",
            "Train loss: 0.003923\n"
          ]
        },
        {
          "output_type": "stream",
          "name": "stderr",
          "text": [
            "100%|██████████| 1/1 [00:00<00:00, 29.20it/s, Loss=0.404563, AUC=0.859259, F1=0.859408]\n"
          ]
        },
        {
          "output_type": "stream",
          "name": "stdout",
          "text": [
            "Epoch 44\n",
            "Train loss: 0.004677\n"
          ]
        },
        {
          "output_type": "stream",
          "name": "stderr",
          "text": [
            "100%|██████████| 1/1 [00:00<00:00, 21.74it/s, Loss=0.406020, AUC=0.859259, F1=0.859103]\n"
          ]
        },
        {
          "output_type": "stream",
          "name": "stdout",
          "text": [
            "Epoch 45\n",
            "Train loss: 0.005334\n"
          ]
        },
        {
          "output_type": "stream",
          "name": "stderr",
          "text": [
            "100%|██████████| 1/1 [00:00<00:00, 27.04it/s, Loss=0.404992, AUC=0.851852, F1=0.851822]\n"
          ]
        },
        {
          "output_type": "stream",
          "name": "stdout",
          "text": [
            "Epoch 46\n",
            "Train loss: 0.005904\n"
          ]
        },
        {
          "output_type": "stream",
          "name": "stderr",
          "text": [
            "100%|██████████| 1/1 [00:00<00:00, 32.12it/s, Loss=0.409656, AUC=0.866667, F1=0.866504]\n"
          ]
        },
        {
          "output_type": "stream",
          "name": "stdout",
          "text": [
            "Epoch 47\n",
            "Train loss: 0.003531\n"
          ]
        },
        {
          "output_type": "stream",
          "name": "stderr",
          "text": [
            "100%|██████████| 1/1 [00:00<00:00, 22.19it/s, Loss=0.408974, AUC=0.866667, F1=0.866359]"
          ]
        },
        {
          "output_type": "stream",
          "name": "stdout",
          "text": [
            "Epoch 48\n"
          ]
        },
        {
          "output_type": "stream",
          "name": "stderr",
          "text": [
            "\n"
          ]
        },
        {
          "output_type": "stream",
          "name": "stdout",
          "text": [
            "Train loss: 0.003949\n"
          ]
        },
        {
          "output_type": "stream",
          "name": "stderr",
          "text": [
            "100%|██████████| 1/1 [00:00<00:00, 26.64it/s, Loss=0.407686, AUC=0.866667, F1=0.866359]"
          ]
        },
        {
          "output_type": "stream",
          "name": "stdout",
          "text": [
            "Epoch 49\n"
          ]
        },
        {
          "output_type": "stream",
          "name": "stderr",
          "text": [
            "\n"
          ]
        },
        {
          "output_type": "stream",
          "name": "stdout",
          "text": [
            "Train loss: 0.004001\n"
          ]
        },
        {
          "output_type": "stream",
          "name": "stderr",
          "text": [
            "100%|██████████| 1/1 [00:00<00:00, 23.13it/s, Loss=0.407203, AUC=0.859259, F1=0.859103]"
          ]
        },
        {
          "output_type": "stream",
          "name": "stdout",
          "text": [
            "Epoch 50\n"
          ]
        },
        {
          "output_type": "stream",
          "name": "stderr",
          "text": [
            "\n"
          ]
        },
        {
          "output_type": "stream",
          "name": "stdout",
          "text": [
            "Train loss: 0.004226\n"
          ]
        },
        {
          "output_type": "stream",
          "name": "stderr",
          "text": [
            "100%|██████████| 1/1 [00:00<00:00, 24.37it/s, Loss=0.408338, AUC=0.859259, F1=0.859103]"
          ]
        },
        {
          "output_type": "stream",
          "name": "stdout",
          "text": [
            "Epoch 51\n"
          ]
        },
        {
          "output_type": "stream",
          "name": "stderr",
          "text": [
            "\n"
          ]
        },
        {
          "output_type": "stream",
          "name": "stdout",
          "text": [
            "Train loss: 0.003239\n"
          ]
        },
        {
          "output_type": "stream",
          "name": "stderr",
          "text": [
            "100%|██████████| 1/1 [00:00<00:00, 22.17it/s, Loss=0.408735, AUC=0.866667, F1=0.866359]"
          ]
        },
        {
          "output_type": "stream",
          "name": "stdout",
          "text": [
            "Epoch 52\n"
          ]
        },
        {
          "output_type": "stream",
          "name": "stderr",
          "text": [
            "\n"
          ]
        },
        {
          "output_type": "stream",
          "name": "stdout",
          "text": [
            "Train loss: 0.005010\n"
          ]
        },
        {
          "output_type": "stream",
          "name": "stderr",
          "text": [
            "100%|██████████| 1/1 [00:00<00:00, 36.95it/s, Loss=0.406043, AUC=0.859259, F1=0.859103]\n"
          ]
        },
        {
          "output_type": "stream",
          "name": "stdout",
          "text": [
            "Epoch 53\n",
            "Train loss: 0.003197\n"
          ]
        },
        {
          "output_type": "stream",
          "name": "stderr",
          "text": [
            "100%|██████████| 1/1 [00:00<00:00, 38.69it/s, Loss=0.405993, AUC=0.844444, F1=0.844511]"
          ]
        },
        {
          "output_type": "stream",
          "name": "stdout",
          "text": [
            "Epoch 54\n"
          ]
        },
        {
          "output_type": "stream",
          "name": "stderr",
          "text": [
            "\n"
          ]
        },
        {
          "output_type": "stream",
          "name": "stdout",
          "text": [
            "Train loss: 0.006187\n"
          ]
        },
        {
          "output_type": "stream",
          "name": "stderr",
          "text": [
            "100%|██████████| 1/1 [00:00<00:00, 37.50it/s, Loss=0.407494, AUC=0.859259, F1=0.859103]\n"
          ]
        },
        {
          "output_type": "stream",
          "name": "stdout",
          "text": [
            "Epoch 55\n",
            "Train loss: 0.003560\n"
          ]
        },
        {
          "output_type": "stream",
          "name": "stderr",
          "text": [
            "100%|██████████| 1/1 [00:00<00:00, 37.17it/s, Loss=0.403718, AUC=0.851852, F1=0.851989]"
          ]
        },
        {
          "output_type": "stream",
          "name": "stdout",
          "text": [
            "Epoch 56\n"
          ]
        },
        {
          "output_type": "stream",
          "name": "stderr",
          "text": [
            "\n"
          ]
        },
        {
          "output_type": "stream",
          "name": "stdout",
          "text": [
            "Train loss: 0.003071\n"
          ]
        },
        {
          "output_type": "stream",
          "name": "stderr",
          "text": [
            "100%|██████████| 1/1 [00:00<00:00, 31.99it/s, Loss=0.403836, AUC=0.851852, F1=0.851634]"
          ]
        },
        {
          "output_type": "stream",
          "name": "stdout",
          "text": [
            "Epoch 57\n"
          ]
        },
        {
          "output_type": "stream",
          "name": "stderr",
          "text": [
            "\n"
          ]
        },
        {
          "output_type": "stream",
          "name": "stdout",
          "text": [
            "Train loss: 0.005315\n"
          ]
        },
        {
          "output_type": "stream",
          "name": "stderr",
          "text": [
            "100%|██████████| 1/1 [00:00<00:00, 41.70it/s, Loss=0.408313, AUC=0.844444, F1=0.844511]"
          ]
        },
        {
          "output_type": "stream",
          "name": "stdout",
          "text": [
            "Epoch 58\n"
          ]
        },
        {
          "output_type": "stream",
          "name": "stderr",
          "text": [
            "\n"
          ]
        },
        {
          "output_type": "stream",
          "name": "stdout",
          "text": [
            "Train loss: 0.003569\n"
          ]
        },
        {
          "output_type": "stream",
          "name": "stderr",
          "text": [
            "100%|██████████| 1/1 [00:00<00:00, 39.54it/s, Loss=0.409573, AUC=0.844444, F1=0.845018]"
          ]
        },
        {
          "output_type": "stream",
          "name": "stdout",
          "text": [
            "Epoch 59\n"
          ]
        },
        {
          "output_type": "stream",
          "name": "stderr",
          "text": [
            "\n"
          ]
        },
        {
          "output_type": "stream",
          "name": "stdout",
          "text": [
            "Train loss: 0.006763\n"
          ]
        },
        {
          "output_type": "stream",
          "name": "stderr",
          "text": [
            "100%|██████████| 1/1 [00:00<00:00, 37.81it/s, Loss=0.411427, AUC=0.851852, F1=0.852591]"
          ]
        },
        {
          "output_type": "stream",
          "name": "stdout",
          "text": [
            "Epoch 60\n"
          ]
        },
        {
          "output_type": "stream",
          "name": "stderr",
          "text": [
            "\n"
          ]
        },
        {
          "output_type": "stream",
          "name": "stdout",
          "text": [
            "Train loss: 0.005386\n"
          ]
        },
        {
          "output_type": "stream",
          "name": "stderr",
          "text": [
            "100%|██████████| 1/1 [00:00<00:00, 38.42it/s, Loss=0.411941, AUC=0.837037, F1=0.837307]"
          ]
        },
        {
          "output_type": "stream",
          "name": "stdout",
          "text": [
            "Epoch 61\n"
          ]
        },
        {
          "output_type": "stream",
          "name": "stderr",
          "text": [
            "\n"
          ]
        },
        {
          "output_type": "stream",
          "name": "stdout",
          "text": [
            "Train loss: 0.002468\n"
          ]
        },
        {
          "output_type": "stream",
          "name": "stderr",
          "text": [
            "100%|██████████| 1/1 [00:00<00:00, 41.80it/s, Loss=0.409187, AUC=0.859259, F1=0.859446]"
          ]
        },
        {
          "output_type": "stream",
          "name": "stdout",
          "text": [
            "Epoch 62\n"
          ]
        },
        {
          "output_type": "stream",
          "name": "stderr",
          "text": [
            "\n"
          ]
        },
        {
          "output_type": "stream",
          "name": "stdout",
          "text": [
            "Train loss: 0.004372\n"
          ]
        },
        {
          "output_type": "stream",
          "name": "stderr",
          "text": [
            "100%|██████████| 1/1 [00:00<00:00, 36.76it/s, Loss=0.409810, AUC=0.844444, F1=0.844294]"
          ]
        },
        {
          "output_type": "stream",
          "name": "stdout",
          "text": [
            "Epoch 63\n"
          ]
        },
        {
          "output_type": "stream",
          "name": "stderr",
          "text": [
            "\n"
          ]
        },
        {
          "output_type": "stream",
          "name": "stdout",
          "text": [
            "Train loss: 0.005109\n"
          ]
        },
        {
          "output_type": "stream",
          "name": "stderr",
          "text": [
            "100%|██████████| 1/1 [00:00<00:00, 40.13it/s, Loss=0.416533, AUC=0.851852, F1=0.852267]"
          ]
        },
        {
          "output_type": "stream",
          "name": "stdout",
          "text": [
            "Epoch 64\n"
          ]
        },
        {
          "output_type": "stream",
          "name": "stderr",
          "text": [
            "\n"
          ]
        },
        {
          "output_type": "stream",
          "name": "stdout",
          "text": [
            "Train loss: 0.002219\n"
          ]
        },
        {
          "output_type": "stream",
          "name": "stderr",
          "text": [
            "100%|██████████| 1/1 [00:00<00:00, 41.64it/s, Loss=0.411565, AUC=0.844444, F1=0.844429]"
          ]
        },
        {
          "output_type": "stream",
          "name": "stdout",
          "text": [
            "Epoch 65\n"
          ]
        },
        {
          "output_type": "stream",
          "name": "stderr",
          "text": [
            "\n"
          ]
        },
        {
          "output_type": "stream",
          "name": "stdout",
          "text": [
            "Train loss: 0.002222\n"
          ]
        },
        {
          "output_type": "stream",
          "name": "stderr",
          "text": [
            "100%|██████████| 1/1 [00:00<00:00, 36.26it/s, Loss=0.410940, AUC=0.859259, F1=0.858946]"
          ]
        },
        {
          "output_type": "stream",
          "name": "stdout",
          "text": [
            "Epoch 66\n"
          ]
        },
        {
          "output_type": "stream",
          "name": "stderr",
          "text": [
            "\n"
          ]
        },
        {
          "output_type": "stream",
          "name": "stdout",
          "text": [
            "Train loss: 0.002443\n"
          ]
        },
        {
          "output_type": "stream",
          "name": "stderr",
          "text": [
            "100%|██████████| 1/1 [00:00<00:00, 37.42it/s, Loss=0.410018, AUC=0.844444, F1=0.844429]"
          ]
        },
        {
          "output_type": "stream",
          "name": "stdout",
          "text": [
            "Epoch 67\n"
          ]
        },
        {
          "output_type": "stream",
          "name": "stderr",
          "text": [
            "\n"
          ]
        },
        {
          "output_type": "stream",
          "name": "stdout",
          "text": [
            "Train loss: 0.002115\n"
          ]
        },
        {
          "output_type": "stream",
          "name": "stderr",
          "text": [
            "100%|██████████| 1/1 [00:00<00:00, 42.82it/s, Loss=0.408994, AUC=0.851852, F1=0.851700]"
          ]
        },
        {
          "output_type": "stream",
          "name": "stdout",
          "text": [
            "The finetuning starts to overfit, so stop the process\n",
            "The best loss is 0.40325 at epoch 42\n",
            "\n",
            "First loss 1.0816\n",
            "Best loss 0.4032 at epoch 42\n",
            "\n",
            "Stable accuracy 86.7%\n",
            "Best accuracy 88.1% at epoch 38\n",
            "Train time 0.119 sec \n",
            "Test time 0.035 sec\n"
          ]
        },
        {
          "output_type": "stream",
          "name": "stderr",
          "text": [
            "\n"
          ]
        }
      ]
    },
    {
      "cell_type": "code",
      "source": [
        "from utils.predict import print_classification_report\n",
        "\n",
        "# Load best model\n",
        "ft_model.load_state_dict(torch.load(save_final_model_path, weights_only=True))\n",
        "\n",
        "print_classification_report(ft_model, test_loader_ft, num_classes, device='cpu')"
      ],
      "metadata": {
        "colab": {
          "base_uri": "https://localhost:8080/"
        },
        "id": "x3xjL_Af_CNg",
        "outputId": "6449e186-1016-444d-c6c3-93d6e6367bee"
      },
      "execution_count": null,
      "outputs": [
        {
          "output_type": "stream",
          "name": "stdout",
          "text": [
            "              precision    recall  f1-score   support\n",
            "\n",
            "    negative       0.87      0.89      0.88        45\n",
            "     neutral       0.83      0.87      0.85        45\n",
            "    positive       0.90      0.84      0.87        45\n",
            "\n",
            "    accuracy                           0.87       135\n",
            "   macro avg       0.87      0.87      0.87       135\n",
            "weighted avg       0.87      0.87      0.87       135\n",
            "\n"
          ]
        }
      ]
    },
    {
      "cell_type": "markdown",
      "source": [
        "### Quantization"
      ],
      "metadata": {
        "id": "phMuzK26_QPg"
      }
    },
    {
      "cell_type": "code",
      "source": [
        "from utils.quantize import quantize_model\n",
        "device='cpu'\n",
        "model_quantized = quantize_model(ft_model.to(device), test_loader_ft, device=device , backend=\"fbgemm\")\n",
        "model_quantized"
      ],
      "metadata": {
        "colab": {
          "base_uri": "https://localhost:8080/"
        },
        "id": "tN4H3t90OxBY",
        "outputId": "a6d3804c-2c7c-4520-f260-3c4898441fe9"
      },
      "execution_count": null,
      "outputs": [
        {
          "output_type": "execute_result",
          "data": {
            "text/plain": [
              "GraphModule(\n",
              "  (0): Module(\n",
              "    (cn): Module(\n",
              "      (0): QuantizedConv2d(5, 64, kernel_size=(1, 3), stride=(1, 1), scale=0.06511269509792328, zero_point=67, padding=(0, 1))\n",
              "      (1): QuantizedLeakyReLU(negative_slope=0.01)\n",
              "      (2): MaxPool2d(kernel_size=(1, 2), stride=(1, 2), padding=0, dilation=1, ceil_mode=False)\n",
              "      (3): QuantizedBatchNorm2d(64, eps=1e-05, momentum=0.1, affine=True, track_running_stats=True)\n",
              "      (4): QuantizedDropout(p=0.2, inplace=False)\n",
              "      (5): QuantizedConv2d(64, 128, kernel_size=(1, 3), stride=(1, 1), scale=0.06424271315336227, zero_point=65, padding=(0, 1))\n",
              "      (6): QuantizedLeakyReLU(negative_slope=0.01)\n",
              "      (7): MaxPool2d(kernel_size=(1, 2), stride=(1, 2), padding=0, dilation=1, ceil_mode=False)\n",
              "      (8): QuantizedBatchNorm2d(128, eps=1e-05, momentum=0.1, affine=True, track_running_stats=True)\n",
              "      (9): QuantizedDropout(p=0.25, inplace=False)\n",
              "      (10): Flatten(start_dim=1, end_dim=-1)\n",
              "      (11): QuantizedLinear(in_features=15872, out_features=128, scale=0.04280399531126022, zero_point=65, qscheme=torch.per_channel_affine)\n",
              "    )\n",
              "  )\n",
              "  (1): QuantizedLinear(in_features=128, out_features=1024, scale=0.033414632081985474, zero_point=64, qscheme=torch.per_channel_affine)\n",
              "  (2): QuantizedLeakyReLU(negative_slope=0.01)\n",
              "  (3): BatchNorm1d(1024, eps=1e-05, momentum=0.1, affine=True, track_running_stats=True)\n",
              "  (4): QuantizedDropout(p=0.3, inplace=False)\n",
              "  (5): QuantizedLinear(in_features=1024, out_features=3, scale=0.09761325269937515, zero_point=56, qscheme=torch.per_channel_affine)\n",
              ")"
            ]
          },
          "metadata": {},
          "execution_count": 32
        }
      ]
    },
    {
      "cell_type": "code",
      "source": [
        "# Evaluate quantization\n",
        "from utils.quantize import eval_quantization\n",
        "eval_quantization(model_quantized, test_loader_ft, num_classes, device)"
      ],
      "metadata": {
        "id": "0h5WkdsDYqc1",
        "colab": {
          "base_uri": "https://localhost:8080/"
        },
        "outputId": "f2c1ab5c-83e8-49a6-d939-00f8434c8c7f"
      },
      "execution_count": null,
      "outputs": [
        {
          "output_type": "stream",
          "name": "stdout",
          "text": [
            "Model size: 2.15 MB\n",
            "Total Trainable Params: 28160\n",
            "More detailed parameters distribution:\n",
            "+---------------+------------+\n",
            "|    Modules    | Parameters |\n",
            "+---------------+------------+\n",
            "| 0.cn.0.weight |    960     |\n",
            "|  0.cn.0.bias  |     64     |\n",
            "| 0.cn.3.weight |     64     |\n",
            "|  0.cn.3.bias  |     64     |\n",
            "| 0.cn.5.weight |   24576    |\n",
            "|  0.cn.5.bias  |    128     |\n",
            "| 0.cn.8.weight |    128     |\n",
            "|  0.cn.8.bias  |    128     |\n",
            "|    3.weight   |    1024    |\n",
            "|     3.bias    |    1024    |\n",
            "+---------------+------------+\n",
            "\n"
          ]
        },
        {
          "output_type": "stream",
          "name": "stderr",
          "text": [
            "100%|██████████| 1/1 [00:00<00:00, 13.21it/s, Loss=0.405816, AUC=0.844444, F1=0.844804]"
          ]
        },
        {
          "output_type": "stream",
          "name": "stdout",
          "text": [
            "Loss: 0.41\n",
            "Accuracy: 0.84\n",
            "Processing time: 0.08055281639099121 sec\n"
          ]
        },
        {
          "output_type": "stream",
          "name": "stderr",
          "text": [
            "\n"
          ]
        }
      ]
    },
    {
      "cell_type": "code",
      "source": [
        "# Compare initial model with its quantized version\n",
        "from utils.quantize import compare_quantization\n",
        "compare_quantization(ft_model, model_quantized, test_loader_ft, num_classes, device='cpu')"
      ],
      "metadata": {
        "id": "GAKVzA2bYytA",
        "colab": {
          "base_uri": "https://localhost:8080/"
        },
        "outputId": "b9c19fde-74a8-434d-972d-d3bf9ae1e790"
      },
      "execution_count": null,
      "outputs": [
        {
          "output_type": "stream",
          "name": "stdout",
          "text": [
            "Model size changed from 8.39 MB to 2.15 MB\n",
            "The size of the model has decreased by 3.9 times\n",
            "Number of trainable parameters changed from 2195331 to 2432, or by 902.69 times\n"
          ]
        },
        {
          "output_type": "stream",
          "name": "stderr",
          "text": [
            "100%|██████████| 1/1 [00:00<00:00,  5.77it/s, Loss=0.403249, AUC=0.866667, F1=0.866837]\n",
            "100%|██████████| 1/1 [00:00<00:00, 15.59it/s, Loss=0.405816, AUC=0.844444, F1=0.844804]"
          ]
        },
        {
          "output_type": "stream",
          "name": "stdout",
          "text": [
            "Loss changed on -0.0 times\n",
            "Accuracy changed on 2.0%\n",
            "Processing time changed by 2.64 times\n"
          ]
        },
        {
          "output_type": "stream",
          "name": "stderr",
          "text": [
            "\n"
          ]
        }
      ]
    },
    {
      "cell_type": "code",
      "source": [
        "# Reset cache\n",
        "import gc\n",
        "\n",
        "ft_model.to(\"cpu\")\n",
        "del ft_model\n",
        "model.to(\"cpu\")\n",
        "del model\n",
        "for _ in range(30):\n",
        "    gc.collect()\n",
        "for _ in range(100000):\n",
        "    torch.cuda.empty_cache()"
      ],
      "metadata": {
        "id": "bC0luUhz-z7c"
      },
      "execution_count": null,
      "outputs": []
    }
  ]
}